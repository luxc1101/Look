{
 "cells": [
  {
   "cell_type": "code",
   "execution_count": 162,
   "metadata": {},
   "outputs": [],
   "source": [
    "from selenium import webdriver\n",
    "import webbrowser\n",
    "import time\n",
    "import random\n",
    "import requests \n",
    "from bs4 import BeautifulSoup as bs\n",
    "import pandas as pd\n",
    "import re"
   ]
  },
  {
   "cell_type": "code",
   "execution_count": 163,
   "metadata": {},
   "outputs": [],
   "source": [
    "web_path = 'https://look.163.com/live?id=185033113&position=3'\n",
    "driver = webdriver.Chrome()\n",
    "driver.get(web_path)"
   ]
  },
  {
   "cell_type": "code",
   "execution_count": 164,
   "metadata": {},
   "outputs": [],
   "source": [
    "driver.find_element_by_xpath(\"//*[@id='ssr-app']/div/div[1]/div[3]\").click()\n",
    "username = driver.find_element_by_xpath(\"//*[@id='j-portal']/div/div/div[2]/div/div[1]/div/div[1]/div/div/div[2]/div/input\")\n",
    "username.send_keys(\"18615102720\")\n",
    "password = driver.find_element_by_xpath(\"//*[@id='j-portal']/div/div/div[2]/div/div[1]/div/div[2]/div/div/input\")\n",
    "password.send_keys(\"ironman691101\")\n",
    "checkbox = driver.find_element_by_xpath(\"//*[@id='j-portal']/div/div/div[2]/div/div[1]/div/p/label/span\").click()\n",
    "Login_Button = driver.find_element_by_xpath(\"//*[@id='j-portal']/div/div/div[2]/div/div[1]/div/div[4]/a\").click()"
   ]
  },
  {
   "cell_type": "code",
   "execution_count": 166,
   "metadata": {
    "scrolled": false
   },
   "outputs": [
    {
     "name": "stdout",
     "output_type": "stream",
     "text": [
      "['小栀晚']\n",
      "通透的嗜好在孤岛中着迷\n",
      "雯了一晚\n",
      "Bot_luue\n",
      "Bot_luue\n",
      "Bot_luue\n",
      "Bot_luue\n",
      "Bot_luue\n",
      "Bot_luue\n",
      "Bot_luue\n",
      "Bot_luue\n",
      "Bot_luue\n",
      "通透的嗜好在孤岛中着迷\n",
      "通透的嗜好在孤岛中着迷\n",
      "通透的嗜好在孤岛中着迷\n",
      "通透的嗜好在孤岛中着迷\n",
      "通透的嗜好在孤岛中着迷\n",
      "剑雯_rwZ9\n"
     ]
    },
    {
     "ename": "KeyboardInterrupt",
     "evalue": "",
     "output_type": "error",
     "traceback": [
      "\u001b[1;31m---------------------------------------------------------------------------\u001b[0m",
      "\u001b[1;31mKeyboardInterrupt\u001b[0m                         Traceback (most recent call last)",
      "\u001b[1;32m<ipython-input-166-e15e81a8adf6>\u001b[0m in \u001b[0;36m<module>\u001b[1;34m\u001b[0m\n\u001b[0;32m      8\u001b[0m \u001b[1;32mwhile\u001b[0m \u001b[1;32mTrue\u001b[0m\u001b[1;33m:\u001b[0m\u001b[1;33m\u001b[0m\u001b[1;33m\u001b[0m\u001b[0m\n\u001b[0;32m      9\u001b[0m     \u001b[0mdriver\u001b[0m\u001b[1;33m.\u001b[0m\u001b[0mrefresh\u001b[0m\u001b[1;33m(\u001b[0m\u001b[1;33m)\u001b[0m\u001b[1;33m\u001b[0m\u001b[1;33m\u001b[0m\u001b[0m\n\u001b[1;32m---> 10\u001b[1;33m     \u001b[0mtime\u001b[0m\u001b[1;33m.\u001b[0m\u001b[0msleep\u001b[0m\u001b[1;33m(\u001b[0m\u001b[1;36m7\u001b[0m\u001b[1;33m)\u001b[0m\u001b[1;33m\u001b[0m\u001b[1;33m\u001b[0m\u001b[0m\n\u001b[0m\u001b[0;32m     11\u001b[0m     \u001b[1;32mtry\u001b[0m\u001b[1;33m:\u001b[0m\u001b[1;33m\u001b[0m\u001b[1;33m\u001b[0m\u001b[0m\n\u001b[0;32m     12\u001b[0m         \u001b[0mcontent\u001b[0m \u001b[1;33m=\u001b[0m \u001b[0mdriver\u001b[0m\u001b[1;33m.\u001b[0m\u001b[0mfind_element_by_class_name\u001b[0m\u001b[1;33m(\u001b[0m\u001b[1;34m'text_290DO'\u001b[0m\u001b[1;33m)\u001b[0m\u001b[1;33m.\u001b[0m\u001b[0mtext\u001b[0m\u001b[1;33m\u001b[0m\u001b[1;33m\u001b[0m\u001b[0m\n",
      "\u001b[1;31mKeyboardInterrupt\u001b[0m: "
     ]
    }
   ],
   "source": [
    "customer_l = []\n",
    "owner = driver.find_element_by_class_name('nickname_3pHT9').text\n",
    "print(owner.split(':'))\n",
    "txts = ['realize your three wishes','1. something Lao De dislike', '2. fafa','3. yunbei']\n",
    "# send = driver.find_element_by_class_name('send_3VjZd').text\n",
    "# print(send)\n",
    "# time.sleep(3)   \n",
    "while True:\n",
    "    driver.refresh()\n",
    "    time.sleep(10)\n",
    "    try:\n",
    "        content = driver.find_element_by_class_name('text_290DO').text\n",
    "        customer = driver.find_element_by_class_name('nick_20QEy').text.split(':')[0]\n",
    "        print(customer)\n",
    "        if content == '@Bot_luue hi babe':\n",
    "            for txt in txts:\n",
    "                print(txt)\n",
    "                text = driver.find_element_by_xpath(\"//*[@id='CONTENT_ID']/div/div[2]/div[2]/div/div/div[2]/div[1]/input\")\n",
    "                if txt == txts[0]:\n",
    "                    text.send_keys(txt + owner)\n",
    "                else:\n",
    "                    text.send_keys(txt)\n",
    "                send = driver.find_element_by_xpath(\"//*[@id='CONTENT_ID']/div/div[2]/div[2]/div/div/div[2]/div[2]\").click()\n",
    "                time.sleep(1.5)\n",
    "                text.clear()\n",
    "                \n",
    "        if (customer not in customer_l) and (customer != owner) :\n",
    "                customer_l.append(customer)\n",
    "                text = driver.find_element_by_xpath(\"//*[@id='CONTENT_ID']/div/div[2]/div[2]/div/div/div[2]/div[1]/input\")\n",
    "                text.send_keys('欢迎{}进入直播间, 来了就多待会儿！'.format(customer))\n",
    "                send = driver.find_element_by_xpath(\"//*[@id='CONTENT_ID']/div/div[2]/div[2]/div/div/div[2]/div[2]\").click()\n",
    "                time.sleep(1)\n",
    "    except:\n",
    "        print('none')\n",
    "# if come_in == '进入了直播间':\n",
    "#     customer = driver.find_element_by_class_name('nick_20QEy').text\n",
    "#     text = driver.find_element_by_xpath(\"//*[@id='CONTENT_ID']/div/div[2]/div[2]/div/div/div[2]/div[1]/input\")\n",
    "#     text.send_keys('欢迎{}进入直播间'.format(customer))\n",
    "#     send = driver.find_element_by_xpath(\"//*[@id='CONTENT_ID']/div/div[2]/div[2]/div/div/div[2]/div[2]\").click()\n"
   ]
  },
  {
   "cell_type": "code",
   "execution_count": null,
   "metadata": {},
   "outputs": [],
   "source": []
  }
 ],
 "metadata": {
  "kernelspec": {
   "display_name": "Python 3",
   "language": "python",
   "name": "python3"
  },
  "language_info": {
   "codemirror_mode": {
    "name": "ipython",
    "version": 3
   },
   "file_extension": ".py",
   "mimetype": "text/x-python",
   "name": "python",
   "nbconvert_exporter": "python",
   "pygments_lexer": "ipython3",
   "version": "3.7.6"
  },
  "toc": {
   "base_numbering": 1,
   "nav_menu": {},
   "number_sections": true,
   "sideBar": true,
   "skip_h1_title": false,
   "title_cell": "Table of Contents",
   "title_sidebar": "Contents",
   "toc_cell": false,
   "toc_position": {},
   "toc_section_display": true,
   "toc_window_display": false
  }
 },
 "nbformat": 4,
 "nbformat_minor": 4
}
